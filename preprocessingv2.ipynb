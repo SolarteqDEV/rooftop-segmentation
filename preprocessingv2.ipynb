{
 "cells": [
  {
   "cell_type": "markdown",
   "metadata": {},
   "source": [
    "# 1. Get building polygons from OpenStreetMap"
   ]
  },
  {
   "cell_type": "markdown",
   "metadata": {},
   "source": [
    "## Training area - Limehouse, London\n",
    "Intially the area I'm using is a section of Limehouse, London. I've chosen this area as the building polygons for terraced houses are accurate and well defined with each house being a single polygon rather than a large connected rectangle. It is also an inner city area with a high density of buildings which will be useful for training and closer to the city typology of the wider Tower Hamlets borough which we will eventually be classifying.\n",
    "\n",
    "Below is a screenshot of this area on OpenStreetMap.\n",
    "\n",
    "<p style='text-align: center;'>\n",
    "    <img src=\"./data/london/raw-inputs/Limehouse__OSM_Screenshot.png\" alt=\"Limehouse OpenStreetMap Screenshot\" width=\"860\"/>\n",
    "</p>"
   ]
  },
  {
   "cell_type": "markdown",
   "metadata": {},
   "source": [
    "## Define constants and generate file paths\n",
    "We'll be using slippy map tiles of `TILE_SIZE = 256` and `ZOOM_LEVEL = 19` which is a good balance between image resolution and processing time for the number of tiles. I'm determine the location to scan from using `LATITUDE_TOP`, `LONGITUDE_LEFT`, `LATITUDE_BOTTOM`, and `LONGITUDE_RIGHT`. These are the boundaries of the area we want to export from [OpenStreetMap](https://www.openstreetmap.org/export#map=17/51.51470/-0.03502) which will be used to extract the building footprints.\n",
    "\n",
    "First let's import the required libraries and define the constants."
   ]
  },
  {
   "cell_type": "code",
   "execution_count": 7,
   "metadata": {},
   "outputs": [],
   "source": [
    "import numpy as np\n",
    "import pandas as pd\n",
    "import matplotlib.pyplot as plt\n",
    "from pathlib import Path\n",
    "import os\n",
    "import mercantile\n",
    "import geopandas as gpd\n",
    "import rasterio\n",
    "import solaris as sol\n",
    "import requests\n",
    "import shutil\n",
    "import json"
   ]
  },
  {
   "cell_type": "code",
   "execution_count": 9,
   "metadata": {},
   "outputs": [],
   "source": [
    "TILE_SIZE = 256\n",
    "ZOOM_LEVEL = 19\n",
    "LATITUDE_TOP = 51.51802\n",
    "LATITUDE_BOTTOM = 51.51239\n",
    "LONGITUE_LEFT = -0.04105\n",
    "LONGITUE_RIGHT = -0.03188\n",
    "\n",
    "# First create a data directory and subdirectories for images and masks\n",
    "DATA_DIR = Path('./data/london/')\n",
    "DATA_DIR.mkdir(exist_ok=True)\n",
    "\n",
    "# Create subdirectory for tile size (s) and zoom level (z)\n",
    "IMAGE_PATH = DATA_DIR / 'images'\n",
    "IMAGE_PATH.mkdir(exist_ok=True)\n",
    "\n",
    "MASKS_PATH = DATA_DIR / 'masks'\n",
    "MASKS_PATH.mkdir(exist_ok=True)\n",
    "\n",
    "# Create tile size (s) and zoom level (z) subdirectories within images and masks\n",
    "(IMAGE_PATH / f's{TILE_SIZE}_z{ZOOM_LEVEL}').mkdir(exist_ok=True)\n",
    "(MASKS_PATH / f's{TILE_SIZE}_z{ZOOM_LEVEL}').mkdir(exist_ok=True)\n",
    "\n",
    "# Create training and validation subdirectories within images and masks\n",
    "(IMAGE_PATH / f's{TILE_SIZE}_z{ZOOM_LEVEL}' / 'train').mkdir(exist_ok=True)\n",
    "(IMAGE_PATH / f's{TILE_SIZE}_z{ZOOM_LEVEL}' / 'validation').mkdir(exist_ok=True)\n",
    "\n",
    "(MASKS_PATH / f's{TILE_SIZE}_z{ZOOM_LEVEL}' / 'train').mkdir(exist_ok=True)\n",
    "(MASKS_PATH / f's{TILE_SIZE}_z{ZOOM_LEVEL}' / 'validation').mkdir(exist_ok=True)"
   ]
  },
  {
   "cell_type": "markdown",
   "metadata": {},
   "source": [
    "## Create a geoJSON bounding box\n",
    "We will use the `LATITUDE_TOP`, `LONGITUDE_LEFT`, `LATITUDE_BOTTOM`, and `LONGITUDE_RIGHT` to create a GeoJSON bounding box which we can use to extract the building footprints from the OpenStreetMap export."
   ]
  },
  {
   "cell_type": "code",
   "execution_count": 11,
   "metadata": {},
   "outputs": [
    {
     "data": {
      "text/plain": [
       "<AxesSubplot:>"
      ]
     },
     "execution_count": 11,
     "metadata": {},
     "output_type": "execute_result"
    },
    {
     "data": {
      "image/png": "[encoded data removed]",
      "text/plain": [
       "<Figure size 640x480 with 1 Axes>"
      ]
     },
     "metadata": {},
     "output_type": "display_data"
    }
   ],
   "source": [
    "bounding_box_geojson = {\n",
    "    \"type\": \"FeatureCollection\",\n",
    "    \"features\": [\n",
    "        {\n",
    "            \"type\": \"Feature\",\n",
    "            \"properties\": {},\n",
    "            \"geometry\": {\n",
    "                \"coordinates\": [\n",
    "                    [\n",
    "                        [\n",
    "                            LONGITUE_LEFT,\n",
    "                            LATITUDE_TOP\n",
    "                        ],\n",
    "                        [\n",
    "                            LONGITUE_LEFT,\n",
    "                            LATITUDE_BOTTOM\n",
    "                        ],\n",
    "                        [\n",
    "                            LONGITUE_RIGHT,\n",
    "                            LATITUDE_BOTTOM\n",
    "                        ],\n",
    "                        [\n",
    "                            LONGITUE_RIGHT,\n",
    "                            LATITUDE_TOP\n",
    "                        ],\n",
    "                        [\n",
    "                            LONGITUE_LEFT,\n",
    "                            LATITUDE_TOP\n",
    "                        ]\n",
    "                    ]\n",
    "                ],\n",
    "                \"type\": \"Polygon\"\n",
    "            }\n",
    "        }\n",
    "    ]\n",
    "}\n",
    "\n",
    "# Save the bounding box geojson\n",
    "with open(DATA_DIR / 'raw-inputs' / 'limehouse.geojson', 'w') as f:\n",
    "    json.dump(bounding_box_geojson, f)\n",
    "\n",
    "# Create a geodataframe from the bounding box geojson\n",
    "bounding_box_gdf = gpd.read_file(DATA_DIR / 'raw-inputs' / 'limehouse.geojson')\n",
    "bounding_box_gdf.plot()"
   ]
  },
  {
   "cell_type": "markdown",
   "metadata": {},
   "source": [
    "## Generate slippy map tile polygons using supermercado and geopandas\n",
    "\n",
    "Next we'll use [`supermercado`](https://github.com/mapbox/supermercado) to generate square polygons representing each slippy map satellite image tile. We'll specify a zoom level and make use of the geoJSON bounding box we created earlier.\n",
    "\n",
    "Use `supermercado burn` to take the input geoJSON bounding box and return a stream of slippy map tile polygons at the specified zoom level. The usage is `<{geojson} stream> | supermercado burn <zoom> | fio collect > {output_filename.geojson}`. \n",
    "\n",
    "Run the following printed commands from a bash terminal to generate the building polygons for the training and validation datasets. If like me you are using Windows, you can use the [Windows Subsystem for Linux](https://docs.microsoft.com/en-us/windows/wsl/install-win10) to run bash commands."
   ]
  },
  {
   "cell_type": "code",
   "execution_count": 12,
   "metadata": {},
   "outputs": [
    {
     "name": "stdout",
     "output_type": "stream",
     "text": [
      "cat data/london/raw-inputs/limehouse.geojson | supermercado burn 19| mercantile shapes | fio collect > data/polygons/limehouse_z19tiles.geojson\n"
     ]
    }
   ],
   "source": [
    "command = f\"cat data/london/raw-inputs/limehouse.geojson | supermercado burn {ZOOM_LEVEL}\" + \\\n",
    "                f\"| mercantile shapes | fio collect > data/polygons/limehouse_z{ZOOM_LEVEL}tiles.geojson\"\n",
    "\n",
    "print(command)"
   ]
  },
  {
   "cell_type": "markdown",
   "metadata": {},
   "source": [
    "## Request satellite images from Mapbox API\n",
    "Using Mapbox Raster Tiles API we can download satellite images for our training data using the [Slippy map tilenames](https://wiki.openstreetmap.org/wiki/Slippy_map_tilenames). The convention is as follows:\n",
    "- Tiles are 256 × 256 pixel PNG files\n",
    "- Each zoom level is a directory, each column is a subdirectory, and each tile in that column is a file\n",
    "- Filename(url) format is /zoom/x/y.png\n",
    "- The slippy map expects tiles to be served up at URLs following this scheme, so all tile server URLs look pretty similar.\n",
    "\n",
    "We'll write some functions that convert latitude and longitude coordinates to tile coordinates which we can pass to our Mapbox GET request.\n"
   ]
  },
  {
   "cell_type": "code",
   "execution_count": null,
   "metadata": {},
   "outputs": [],
   "source": [
    "# Create bounding box for the area of interest\n",
    "top_left = (LATITUDE + DELTA, LONGITUE - DELTA)\n",
    "bottom_right = (LATITUDE - DELTA, LONGITUE + DELTA)\n",
    "\n",
    "# Create tiles\n",
    "tl_tiles = mercantile.tile(tl[1],tl[0],z)\n",
    "br_tiles = mercantile.tile(br[1],br[0],z)\n",
    "x_tile_range =[tl_tiles.x,br_tiles.x];print(x_tile_range)\n",
    "y_tile_range = [tl_tiles.y,br_tiles.y];print(y_tile_range)"
   ]
  },
  {
   "cell_type": "code",
   "execution_count": null,
   "metadata": {},
   "outputs": [],
   "source": [
    "# Make a test request to the Mapbox Static Tiles API\n",
    "res = requests.get('https://api.mapbox.com/v4/mapbox.satellite/'+str(z)+'/'+str(x)+'/'+str(y)+'@2x.pngraw?access_token=pk.eyJ1I....', stream=True)"
   ]
  }
 ],
 "metadata": {
  "kernelspec": {
   "display_name": "geo",
   "language": "python",
   "name": "python3"
  },
  "language_info": {
   "codemirror_mode": {
    "name": "ipython",
    "version": 3
   },
   "file_extension": ".py",
   "mimetype": "text/x-python",
   "name": "python",
   "nbconvert_exporter": "python",
   "pygments_lexer": "ipython3",
   "version": "3.7.12"
  }
 },
 "nbformat": 4,
 "nbformat_minor": 2
}
