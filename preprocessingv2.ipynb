{
 "cells": [
  {
   "cell_type": "markdown",
   "metadata": {},
   "source": [
    "# 1. Get building polygons from OpenStreetMap"
   ]
  },
  {
   "cell_type": "markdown",
   "metadata": {},
   "source": [
    "## Training area - Limehouse, London\n",
    "Intially the area I'm using is a section of Limehouse, London. I've chosen this area as the building polygons for terraced houses are accurate and well defined with each house being a single polygon rather than a large connected rectangle. It is also an inner city area with a high density of buildings which will be useful for training and closer to the city typology of the wider Tower Hamlets borough which we will eventually be classifying.\n",
    "\n",
    "Below is a screenshot of this area on OpenStreetMap.\n",
    "\n",
    "<p style='text-align: center;'>\n",
    "    <img src=\"./data/london/raw-inputs/Limehouse_OSM_Screenshot.png\" alt=\"Limehouse OpenStreetMap Screenshot\" width=\"860\"/>\n",
    "</p>"
   ]
  },
  {
   "cell_type": "markdown",
   "metadata": {},
   "source": [
    "## Define constants and generate file paths\n",
    "We'll be using slippy map tiles of `TILE_SIZE = 512` and `ZOOM_LEVEL = 19` which is a good balance between image resolution and processing time for the number of tiles. I'm determine the location to scan from using `LATITUDE_TOP`, `LONGITUDE_LEFT`, `LATITUDE_BOTTOM`, and `LONGITUDE_RIGHT`. These are the boundaries of the area we want to export from [OpenStreetMap](https://www.openstreetmap.org/export#map=17/51.51470/-0.03502) which will be used to extract the building footprints.\n",
    "\n",
    "First let's import the required libraries and define the constants."
   ]
  },
  {
   "cell_type": "code",
   "execution_count": 55,
   "metadata": {},
   "outputs": [],
   "source": [
    "import numpy as np\n",
    "import pandas as pd\n",
    "import matplotlib.pyplot as plt\n",
    "import matplotlib.patches as patches\n",
    "from pathlib import Path\n",
    "import random\n",
    "import os\n",
    "import mercantile\n",
    "import geopandas as gpd\n",
    "import rasterio\n",
    "import solaris as sol\n",
    "import requests\n",
    "import shutil\n",
    "import json\n",
    "from typing import List, Tuple, Dict\n",
    "from dotenv import load_dotenv"
   ]
  },
  {
   "cell_type": "code",
   "execution_count": 56,
   "metadata": {},
   "outputs": [],
   "source": [
    "TILE_SIZE = 512\n",
    "ZOOM_LEVEL = 19\n",
    "LATITUDE_TOP = 51.51802\n",
    "LATITUDE_BOTTOM = 51.51239\n",
    "LONGITUE_LEFT = -0.04105\n",
    "LONGITUE_RIGHT = -0.03188\n",
    "\n",
    "# Load .env file\n",
    "load_dotenv()\n",
    "\n",
    "# First create a data directory and subdirectories for images and masks\n",
    "DATA_DIR = Path('./data/london/')\n",
    "DATA_DIR.mkdir(exist_ok=True)\n",
    "\n",
    "# Create subdirectory for tile size (s) and zoom level (z)\n",
    "IMAGE_PATH = DATA_DIR / 'images'\n",
    "IMAGE_PATH.mkdir(exist_ok=True)\n",
    "\n",
    "MASKS_PATH = DATA_DIR / 'masks'\n",
    "MASKS_PATH.mkdir(exist_ok=True)\n",
    "\n",
    "POLYGONS_PATH = DATA_DIR / 'polygons'\n",
    "POLYGONS_PATH.mkdir(exist_ok=True)\n",
    "\n",
    "# Create tile size (s) and zoom level (z) subdirectories within images and masks\n",
    "(IMAGE_PATH / f's{TILE_SIZE}_z{ZOOM_LEVEL}').mkdir(exist_ok=True)\n",
    "(MASKS_PATH / f's{TILE_SIZE}_z{ZOOM_LEVEL}').mkdir(exist_ok=True)\n",
    "\n",
    "# Create training and validation subdirectories within images and masks\n",
    "(IMAGE_PATH / f's{TILE_SIZE}_z{ZOOM_LEVEL}' / 'train').mkdir(exist_ok=True)\n",
    "(IMAGE_PATH / f's{TILE_SIZE}_z{ZOOM_LEVEL}' / 'validation').mkdir(exist_ok=True)\n",
    "\n",
    "(MASKS_PATH / f's{TILE_SIZE}_z{ZOOM_LEVEL}' / 'train').mkdir(exist_ok=True)\n",
    "(MASKS_PATH / f's{TILE_SIZE}_z{ZOOM_LEVEL}' / 'validation').mkdir(exist_ok=True)"
   ]
  },
  {
   "cell_type": "markdown",
   "metadata": {},
   "source": [
    "## Create a geoJSON bounding box\n",
    "We will use the `LATITUDE_TOP`, `LONGITUDE_LEFT`, `LATITUDE_BOTTOM`, and `LONGITUDE_RIGHT` to create a GeoJSON bounding box which we can use to extract the building footprints from the OpenStreetMap export."
   ]
  },
  {
   "cell_type": "code",
   "execution_count": 57,
   "metadata": {},
   "outputs": [
    {
     "data": {
      "text/plain": [
       "<AxesSubplot:>"
      ]
     },
     "execution_count": 57,
     "metadata": {},
     "output_type": "execute_result"
    },
    {
     "data": {
      "image/png": "[encoded data removed]",
      "text/plain": [
       "<Figure size 640x480 with 1 Axes>"
      ]
     },
     "metadata": {},
     "output_type": "display_data"
    }
   ],
   "source": [
    "bounding_box_geojson = {\n",
    "    \"type\": \"FeatureCollection\",\n",
    "    \"features\": [\n",
    "        {\n",
    "            \"type\": \"Feature\",\n",
    "            \"properties\": {},\n",
    "            \"geometry\": {\n",
    "                \"coordinates\": [\n",
    "                    [\n",
    "                        [\n",
    "                            LONGITUE_LEFT,\n",
    "                            LATITUDE_TOP\n",
    "                        ],\n",
    "                        [\n",
    "                            LONGITUE_LEFT,\n",
    "                            LATITUDE_BOTTOM\n",
    "                        ],\n",
    "                        [\n",
    "                            LONGITUE_RIGHT,\n",
    "                            LATITUDE_BOTTOM\n",
    "                        ],\n",
    "                        [\n",
    "                            LONGITUE_RIGHT,\n",
    "                            LATITUDE_TOP\n",
    "                        ],\n",
    "                        [\n",
    "                            LONGITUE_LEFT,\n",
    "                            LATITUDE_TOP\n",
    "                        ]\n",
    "                    ]\n",
    "                ],\n",
    "                \"type\": \"Polygon\"\n",
    "            }\n",
    "        }\n",
    "    ]\n",
    "}\n",
    "\n",
    "# Save the bounding box geojson\n",
    "with open(POLYGONS_PATH / 'limehouse.geojson', 'w') as f:\n",
    "    json.dump(bounding_box_geojson, f)\n",
    "\n",
    "# Create a geodataframe from the bounding box geojson\n",
    "bounding_box_gdf = gpd.read_file(POLYGONS_PATH / 'limehouse.geojson')\n",
    "bounding_box_gdf.plot()"
   ]
  },
  {
   "cell_type": "markdown",
   "metadata": {},
   "source": [
    "## Generate slippy map tile polygons using supermercado and geopandas\n",
    "\n",
    "Next we'll use [`supermercado`](https://github.com/mapbox/supermercado) to generate square polygons representing each slippy map satellite image tile. We'll specify a zoom level and make use of the geoJSON bounding box we created earlier.\n",
    "\n",
    "Use `supermercado burn` to take the input geoJSON bounding box and return a stream of slippy map tile polygons at the specified zoom level. The usage is `<{geojson} stream> | supermercado burn <zoom> | fio collect > {output_filename.geojson}`. \n",
    "\n",
    "Run the following printed commands from a bash terminal to generate the building polygons for the training and validation datasets. If like me you are using Windows, you can use the [Windows Subsystem for Linux](https://docs.microsoft.com/en-us/windows/wsl/install-win10) to run bash commands."
   ]
  },
  {
   "cell_type": "code",
   "execution_count": 9,
   "metadata": {},
   "outputs": [
    {
     "name": "stdout",
     "output_type": "stream",
     "text": [
      "cat data/london/polygons/limehouse.geojson | supermercado burn 19| mercantile shapes | fio collect > data/london/polygons/limehouse_z19tiles.geojson\n"
     ]
    }
   ],
   "source": [
    "command = f\"cat data/london/polygons/limehouse.geojson | supermercado burn {ZOOM_LEVEL}\" + \\\n",
    "                f\"| mercantile shapes | fio collect > data/london/polygons/limehouse_z{ZOOM_LEVEL}tiles.geojson\"\n",
    "\n",
    "print(command)"
   ]
  },
  {
   "cell_type": "code",
   "execution_count": 23,
   "metadata": {},
   "outputs": [
    {
     "data": {
      "text/html": [
       "<div>\n",
       "<style scoped>\n",
       "    .dataframe tbody tr th:only-of-type {\n",
       "        vertical-align: middle;\n",
       "    }\n",
       "\n",
       "    .dataframe tbody tr th {\n",
       "        vertical-align: top;\n",
       "    }\n",
       "\n",
       "    .dataframe thead th {\n",
       "        text-align: right;\n",
       "    }\n",
       "</style>\n",
       "<table border=\"1\" class=\"dataframe\">\n",
       "  <thead>\n",
       "    <tr style=\"text-align: right;\">\n",
       "      <th></th>\n",
       "      <th>id</th>\n",
       "      <th>title</th>\n",
       "      <th>geometry</th>\n",
       "      <th>dataset</th>\n",
       "    </tr>\n",
       "  </thead>\n",
       "  <tbody>\n",
       "    <tr>\n",
       "      <th>0</th>\n",
       "      <td>(262084, 174314, 19)</td>\n",
       "      <td>XYZ tile (262084, 174314, 19)</td>\n",
       "      <td>POLYGON ((-0.04120 51.51772, -0.04120 51.51814...</td>\n",
       "      <td>train</td>\n",
       "    </tr>\n",
       "    <tr>\n",
       "      <th>1</th>\n",
       "      <td>(262085, 174314, 19)</td>\n",
       "      <td>XYZ tile (262085, 174314, 19)</td>\n",
       "      <td>POLYGON ((-0.04051 51.51772, -0.04051 51.51814...</td>\n",
       "      <td>train</td>\n",
       "    </tr>\n",
       "    <tr>\n",
       "      <th>2</th>\n",
       "      <td>(262086, 174314, 19)</td>\n",
       "      <td>XYZ tile (262086, 174314, 19)</td>\n",
       "      <td>POLYGON ((-0.03983 51.51772, -0.03983 51.51814...</td>\n",
       "      <td>validation</td>\n",
       "    </tr>\n",
       "    <tr>\n",
       "      <th>3</th>\n",
       "      <td>(262087, 174314, 19)</td>\n",
       "      <td>XYZ tile (262087, 174314, 19)</td>\n",
       "      <td>POLYGON ((-0.03914 51.51772, -0.03914 51.51814...</td>\n",
       "      <td>train</td>\n",
       "    </tr>\n",
       "    <tr>\n",
       "      <th>4</th>\n",
       "      <td>(262088, 174314, 19)</td>\n",
       "      <td>XYZ tile (262088, 174314, 19)</td>\n",
       "      <td>POLYGON ((-0.03845 51.51772, -0.03845 51.51814...</td>\n",
       "      <td>train</td>\n",
       "    </tr>\n",
       "  </tbody>\n",
       "</table>\n",
       "</div>"
      ],
      "text/plain": [
       "                     id                          title  \\\n",
       "0  (262084, 174314, 19)  XYZ tile (262084, 174314, 19)   \n",
       "1  (262085, 174314, 19)  XYZ tile (262085, 174314, 19)   \n",
       "2  (262086, 174314, 19)  XYZ tile (262086, 174314, 19)   \n",
       "3  (262087, 174314, 19)  XYZ tile (262087, 174314, 19)   \n",
       "4  (262088, 174314, 19)  XYZ tile (262088, 174314, 19)   \n",
       "\n",
       "                                            geometry     dataset  \n",
       "0  POLYGON ((-0.04120 51.51772, -0.04120 51.51814...       train  \n",
       "1  POLYGON ((-0.04051 51.51772, -0.04051 51.51814...       train  \n",
       "2  POLYGON ((-0.03983 51.51772, -0.03983 51.51814...  validation  \n",
       "3  POLYGON ((-0.03914 51.51772, -0.03914 51.51814...       train  \n",
       "4  POLYGON ((-0.03845 51.51772, -0.03845 51.51814...       train  "
      ]
     },
     "execution_count": 23,
     "metadata": {},
     "output_type": "execute_result"
    }
   ],
   "source": [
    "# Read back in the tiles generated from the command line\n",
    "bounding_tiles = gpd.read_file(POLYGONS_PATH / f'limehouse_z{ZOOM_LEVEL}tiles.geojson')\n",
    "\n",
    "# Randomly assign each tile to a training or validation set in a 80/20 split\n",
    "random.seed(123)\n",
    "\n",
    "bounding_tiles['dataset'] = np.random.choice(['train', 'validation'],\n",
    "                                           size=len(bounding_tiles),\n",
    "                                           p=[0.8, 0.2])\n",
    "\n",
    "bounding_tiles.head()"
   ]
  },
  {
   "cell_type": "code",
   "execution_count": 26,
   "metadata": {},
   "outputs": [
    {
     "name": "stdout",
     "output_type": "stream",
     "text": [
      "train         161\n",
      "validation     35\n",
      "Name: dataset, dtype: int64\n"
     ]
    }
   ],
   "source": [
    "# Count the number of tiles in each dataset\n",
    "print(bounding_tiles['dataset'].value_counts())\n",
    "\n",
    "# Create traning and validation geodataframes\n",
    "train_bounding_tiles = bounding_tiles[bounding_tiles['dataset'] == 'train']\n",
    "validation_bounding_tiles = bounding_tiles[bounding_tiles['dataset'] == 'validation']"
   ]
  },
  {
   "cell_type": "code",
   "execution_count": 45,
   "metadata": {},
   "outputs": [
    {
     "data": {
      "image/png": "[encoded data removed]",
      "text/plain": [
       "<Figure size 1000x1000 with 1 Axes>"
      ]
     },
     "metadata": {},
     "output_type": "display_data"
    }
   ],
   "source": [
    "# Plot the bounding tiles\n",
    "fig, ax = plt.subplots(figsize=(10, 10))\n",
    "train_bounding_tiles.plot(ax=ax, color='green', edgecolor='green', alpha=0.2, label='train')\n",
    "validation_bounding_tiles.plot(ax=ax, color='blue', edgecolor='blue', alpha=0.2, label='validation')\n",
    "\n",
    "# Create legend patches\n",
    "train_patch = patches.Patch(color='green', alpha=0.2, label='train')\n",
    "validation_patch = patches.Patch(color='blue', alpha=0.2, label='validation')\n",
    "\n",
    "# Add a legend and title\n",
    "ax.legend(handles=[train_patch, validation_patch])\n",
    "ax.set_title(f'Training and Validation bounding tiles for \\n Limehouse, London at zoom level {ZOOM_LEVEL}')\n",
    "\n",
    "plt.show()"
   ]
  },
  {
   "cell_type": "markdown",
   "metadata": {},
   "source": [
    "Next we will convert the `id` column to a tuple of `x`, `y`, and `z` coorindates. These are the slippy map tile coordinates which we will use to download the satellite images."
   ]
  },
  {
   "cell_type": "code",
   "execution_count": 46,
   "metadata": {},
   "outputs": [
    {
     "data": {
      "text/html": [
       "<div>\n",
       "<style scoped>\n",
       "    .dataframe tbody tr th:only-of-type {\n",
       "        vertical-align: middle;\n",
       "    }\n",
       "\n",
       "    .dataframe tbody tr th {\n",
       "        vertical-align: top;\n",
       "    }\n",
       "\n",
       "    .dataframe thead th {\n",
       "        text-align: right;\n",
       "    }\n",
       "</style>\n",
       "<table border=\"1\" class=\"dataframe\">\n",
       "  <thead>\n",
       "    <tr style=\"text-align: right;\">\n",
       "      <th></th>\n",
       "      <th>coordinates</th>\n",
       "      <th>title</th>\n",
       "      <th>geometry</th>\n",
       "      <th>dataset</th>\n",
       "    </tr>\n",
       "  </thead>\n",
       "  <tbody>\n",
       "    <tr>\n",
       "      <th>0</th>\n",
       "      <td>(262084, 174314, 19)</td>\n",
       "      <td>XYZ tile (262084, 174314, 19)</td>\n",
       "      <td>POLYGON ((-0.04120 51.51772, -0.04120 51.51814...</td>\n",
       "      <td>train</td>\n",
       "    </tr>\n",
       "    <tr>\n",
       "      <th>1</th>\n",
       "      <td>(262085, 174314, 19)</td>\n",
       "      <td>XYZ tile (262085, 174314, 19)</td>\n",
       "      <td>POLYGON ((-0.04051 51.51772, -0.04051 51.51814...</td>\n",
       "      <td>train</td>\n",
       "    </tr>\n",
       "    <tr>\n",
       "      <th>2</th>\n",
       "      <td>(262086, 174314, 19)</td>\n",
       "      <td>XYZ tile (262086, 174314, 19)</td>\n",
       "      <td>POLYGON ((-0.03983 51.51772, -0.03983 51.51814...</td>\n",
       "      <td>validation</td>\n",
       "    </tr>\n",
       "    <tr>\n",
       "      <th>3</th>\n",
       "      <td>(262087, 174314, 19)</td>\n",
       "      <td>XYZ tile (262087, 174314, 19)</td>\n",
       "      <td>POLYGON ((-0.03914 51.51772, -0.03914 51.51814...</td>\n",
       "      <td>train</td>\n",
       "    </tr>\n",
       "    <tr>\n",
       "      <th>4</th>\n",
       "      <td>(262088, 174314, 19)</td>\n",
       "      <td>XYZ tile (262088, 174314, 19)</td>\n",
       "      <td>POLYGON ((-0.03845 51.51772, -0.03845 51.51814...</td>\n",
       "      <td>train</td>\n",
       "    </tr>\n",
       "  </tbody>\n",
       "</table>\n",
       "</div>"
      ],
      "text/plain": [
       "            coordinates                          title  \\\n",
       "0  (262084, 174314, 19)  XYZ tile (262084, 174314, 19)   \n",
       "1  (262085, 174314, 19)  XYZ tile (262085, 174314, 19)   \n",
       "2  (262086, 174314, 19)  XYZ tile (262086, 174314, 19)   \n",
       "3  (262087, 174314, 19)  XYZ tile (262087, 174314, 19)   \n",
       "4  (262088, 174314, 19)  XYZ tile (262088, 174314, 19)   \n",
       "\n",
       "                                            geometry     dataset  \n",
       "0  POLYGON ((-0.04120 51.51772, -0.04120 51.51814...       train  \n",
       "1  POLYGON ((-0.04051 51.51772, -0.04051 51.51814...       train  \n",
       "2  POLYGON ((-0.03983 51.51772, -0.03983 51.51814...  validation  \n",
       "3  POLYGON ((-0.03914 51.51772, -0.03914 51.51814...       train  \n",
       "4  POLYGON ((-0.03845 51.51772, -0.03845 51.51814...       train  "
      ]
     },
     "execution_count": 46,
     "metadata": {},
     "output_type": "execute_result"
    }
   ],
   "source": [
    "import ast\n",
    "\n",
    "# Convert the id column from a string into a type of integers\n",
    "bounding_tiles['id'] = bounding_tiles['id'].apply(lambda x: ast.literal_eval(x))\n",
    "\n",
    "# Rename the id column to coordinates\n",
    "bounding_tiles.rename(columns={'id': 'coordinates'}, inplace=True)\n",
    "\n",
    "bounding_tiles.head()"
   ]
  },
  {
   "cell_type": "markdown",
   "metadata": {},
   "source": [
    "## Request satellite images from Mapbox API\n",
    "Using Mapbox Raster Tiles API we can download satellite images for our training data using the [Slippy map tilenames](https://wiki.openstreetmap.org/wiki/Slippy_map_tilenames). The convention is as follows:\n",
    "- Tiles are 256 × 256 pixel PNG files\n",
    "- Each zoom level is a directory, each column is a subdirectory, and each tile in that column is a file\n",
    "- Filename(url) format is /zoom/x/y.png\n",
    "- The slippy map expects tiles to be served up at URLs following this scheme, so all tile server URLs look pretty similar.\n",
    "\n",
    "We have the coordinates for each tile in the `coorindates` column of the `bounding_tiles` GeoDataFrame. We can use these to programmatically make GET requests to the Mapbox API to download the corresponding satellite images.\n",
    "\n",
    "Take the first entry in the `bounding_tiles` GeoDataFrame. The tuple (262084, 174314, 19) in the `coordinates` column is a representation of the tile's coordinates in the XYZ tile scheme. This scheme is commonly used in web mapping applications for serving raster or vector tile images.\n",
    "\n",
    "X (262084) and Y (174314) are the column and row of the tile in the grid for the given zoom level.\n",
    "Z (19) is the zoom level. Higher numbers mean more detail.\n",
    "\n",
    "The `geometry` column contains a `POLYGON` object which is the geographical boundaries of the tile. It's defined by a series of longitude and latitude coordinates that form a closed shape. We will later use this to crop the OSM building footprints within each of the tile boundaries."
   ]
  },
  {
   "cell_type": "code",
   "execution_count": 65,
   "metadata": {},
   "outputs": [
    {
     "name": "stdout",
     "output_type": "stream",
     "text": [
      "Number of image requests: 196\n"
     ]
    }
   ],
   "source": [
    "# Print the number of tiles we have and therefore the number of requests\n",
    "print(f'Number of image requests: {len(bounding_tiles)}')\n",
    "\n",
    "# Create a function to download the images and masks\n",
    "def download_tile_image(coordinates: Tuple[int], dataset: str, tile_size: int, mapbox_api_url: str, bearer_token:str):\n",
    "    \"\"\"\n",
    "    Make a GET request to download the tile image from Mapbox API using the tile coordinates\n",
    "\n",
    "    Args:\n",
    "        coordinates (Tuple[int]): The tile coordinates\n",
    "        dataset (str): The dataset (train or validation)\n",
    "        tile_size (int): The image size of the tile\n",
    "        mapbox_api_url (str): The Mapbox API url\n",
    "        bearer_token (str): The Mapbox API bearer token\n",
    "\n",
    "    Returns:\n",
    "        image_path (Path): The image path\n",
    "    \"\"\"\n",
    "    x, y, z = coordinates\n",
    "\n",
    "    # Create the url to download the image\n",
    "    url = f'{mapbox_api_url}/{z}/{x}/{y}@2x.png?access_token={bearer_token}'\n",
    "    print(url)\n",
    "\n",
    "    # Create the image path\n",
    "    image_path = IMAGE_PATH / f's{tile_size}_z{z}' / dataset / f'{x}_{y}_{z}.png'\n",
    "\n",
    "    # Download the image\n",
    "    response = requests.get(url, stream=True)\n",
    "\n",
    "    # Save the image\n",
    "    with open(image_path, 'wb') as file:\n",
    "        shutil.copyfileobj(response.raw, file)\n",
    "\n",
    "    # Delete the response object\n",
    "    del response\n",
    "\n",
    "    return image_path"
   ]
  },
  {
   "cell_type": "code",
   "execution_count": 66,
   "metadata": {},
   "outputs": [
    {
     "name": "stdout",
     "output_type": "stream",
     "text": [
      "https://api.mapbox.com/v4/mapbox.satellite/19/262084/174314@2x.png?access_token=pk.eyJ1IjoiaGFycmlzb25raW5nIiwiYSI6ImNrbnEyOWJweTAwejQzM250ajlzNWNxdHIifQ.hO_aPqm8-L_SqpcYRbeEbw\n"
     ]
    },
    {
     "data": {
      "text/plain": [
       "WindowsPath('data/london/images/s512_z19/train/262084_174314_19.png')"
      ]
     },
     "execution_count": 66,
     "metadata": {},
     "output_type": "execute_result"
    }
   ],
   "source": [
    "# Make a request for just one image\n",
    "first_tile = bounding_tiles.iloc[0]\n",
    "download_tile_image(coordinates=first_tile['coordinates'],\n",
    "                    dataset=first_tile['dataset'],\n",
    "                    tile_size=TILE_SIZE,\n",
    "                    mapbox_api_url=os.getenv('MAPBOX_API_URL'),\n",
    "                    bearer_token=os.getenv('MAPBOX_BEARER_TOKEN'))"
   ]
  },
  {
   "cell_type": "code",
   "execution_count": null,
   "metadata": {},
   "outputs": [],
   "source": []
  }
 ],
 "metadata": {
  "kernelspec": {
   "display_name": "geo",
   "language": "python",
   "name": "python3"
  },
  "language_info": {
   "codemirror_mode": {
    "name": "ipython",
    "version": 3
   },
   "file_extension": ".py",
   "mimetype": "text/x-python",
   "name": "python",
   "nbconvert_exporter": "python",
   "pygments_lexer": "ipython3",
   "version": "3.7.12"
  }
 },
 "nbformat": 4,
 "nbformat_minor": 2
}
